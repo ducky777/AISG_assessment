{
 "cells": [
  {
   "cell_type": "code",
   "execution_count": 1,
   "metadata": {},
   "outputs": [],
   "source": [
    "import numpy as np\n",
    "import pandas as pd\n",
    "import seaborn as sns\n",
    "from sklearn.tree import DecisionTreeRegressor\n",
    "import matplotlib.pyplot as plt\n",
    "from mlp.AISGPipeline import MLPipeline # Pipeline for ML tasks\n",
    "sns.set()\n",
    "\n",
    "pd.options.display.float_format = '{:,}'.format"
   ]
  },
  {
   "cell_type": "markdown",
   "metadata": {},
   "source": [
    "# Summary of the Problem\n",
    "\n",
    "We are tasked to predict traffic on any given time (interval in hours) given the following information:\n",
    "\n",
    "    1. Holiday\n",
    "    2. Temperature\n",
    "    3. Rain occured in the hour\n",
    "    4. Snow occured in the hour\n",
    "    5. Percentage of cloud cover\n",
    "    6. Current weather\n",
    "    7. Weather description\n",
    "    8. Time of the data collected\n",
    "    \n",
    " ## Initial thoughts\n",
    " \n",
    " What do we expect to see from this EDA?\n",
    " \n",
    "     1. Current weather should be the most important feature\n",
    "     2. Mean of each month's traffic volume should not have high variance since the number of cars own should be roughly the same assuming normal usage of cars\n",
    "     3. Clear skies should have the highest traffic volume for weather\n",
    "     4. There is no correlation between lagged timesteps for traffic volume. Traffic volume is independent of its previous state\n",
    "     5. Traffic volume should spike during peak periods\n",
    "     \n",
    "## Assumptions\n",
    "    1. We are assuming the previous weather data has no impact on the prediction for the current traffic volume\n",
    "    2. We are assuming the previous temperature has no impact on current traffic prediction\n",
    "    3. Assuming weather description will have lesser impact on predictions than weather main since weather main is more generic"
   ]
  },
  {
   "cell_type": "markdown",
   "metadata": {},
   "source": [
    "# Let's start with handling the data and checking for missing data"
   ]
  },
  {
   "cell_type": "code",
   "execution_count": 2,
   "metadata": {},
   "outputs": [
    {
     "data": {
      "text/html": [
       "<div>\n",
       "<style scoped>\n",
       "    .dataframe tbody tr th:only-of-type {\n",
       "        vertical-align: middle;\n",
       "    }\n",
       "\n",
       "    .dataframe tbody tr th {\n",
       "        vertical-align: top;\n",
       "    }\n",
       "\n",
       "    .dataframe thead th {\n",
       "        text-align: right;\n",
       "    }\n",
       "</style>\n",
       "<table border=\"1\" class=\"dataframe\">\n",
       "  <thead>\n",
       "    <tr style=\"text-align: right;\">\n",
       "      <th></th>\n",
       "      <th>holiday</th>\n",
       "      <th>temp</th>\n",
       "      <th>rain_1h</th>\n",
       "      <th>snow_1h</th>\n",
       "      <th>clouds_all</th>\n",
       "      <th>weather_main</th>\n",
       "      <th>weather_description</th>\n",
       "      <th>date_time</th>\n",
       "      <th>traffic_volume</th>\n",
       "    </tr>\n",
       "  </thead>\n",
       "  <tbody>\n",
       "    <tr>\n",
       "      <th>0</th>\n",
       "      <td>New Years Day</td>\n",
       "      <td>263.49</td>\n",
       "      <td>0.0</td>\n",
       "      <td>0</td>\n",
       "      <td>58</td>\n",
       "      <td>Clouds</td>\n",
       "      <td>broken clouds</td>\n",
       "      <td>2013-01-01 00:00:00</td>\n",
       "      <td>1439</td>\n",
       "    </tr>\n",
       "    <tr>\n",
       "      <th>1</th>\n",
       "      <td>None</td>\n",
       "      <td>263.78</td>\n",
       "      <td>0.0</td>\n",
       "      <td>0</td>\n",
       "      <td>40</td>\n",
       "      <td>Clouds</td>\n",
       "      <td>scattered clouds</td>\n",
       "      <td>2013-01-01 01:00:00</td>\n",
       "      <td>1502</td>\n",
       "    </tr>\n",
       "    <tr>\n",
       "      <th>2</th>\n",
       "      <td>None</td>\n",
       "      <td>264.16</td>\n",
       "      <td>0.0</td>\n",
       "      <td>0</td>\n",
       "      <td>75</td>\n",
       "      <td>Snow</td>\n",
       "      <td>heavy snow</td>\n",
       "      <td>2013-01-01 02:00:00</td>\n",
       "      <td>933</td>\n",
       "    </tr>\n",
       "    <tr>\n",
       "      <th>3</th>\n",
       "      <td>None</td>\n",
       "      <td>263.95</td>\n",
       "      <td>0.0</td>\n",
       "      <td>0</td>\n",
       "      <td>90</td>\n",
       "      <td>Clouds</td>\n",
       "      <td>overcast clouds</td>\n",
       "      <td>2013-01-01 03:00:00</td>\n",
       "      <td>576</td>\n",
       "    </tr>\n",
       "    <tr>\n",
       "      <th>4</th>\n",
       "      <td>None</td>\n",
       "      <td>263.65</td>\n",
       "      <td>0.0</td>\n",
       "      <td>0</td>\n",
       "      <td>90</td>\n",
       "      <td>Clouds</td>\n",
       "      <td>overcast clouds</td>\n",
       "      <td>2013-01-01 04:00:00</td>\n",
       "      <td>372</td>\n",
       "    </tr>\n",
       "  </tbody>\n",
       "</table>\n",
       "</div>"
      ],
      "text/plain": [
       "         holiday   temp  rain_1h  snow_1h  clouds_all weather_main  \\\n",
       "0  New Years Day 263.49      0.0        0          58       Clouds   \n",
       "1           None 263.78      0.0        0          40       Clouds   \n",
       "2           None 264.16      0.0        0          75         Snow   \n",
       "3           None 263.95      0.0        0          90       Clouds   \n",
       "4           None 263.65      0.0        0          90       Clouds   \n",
       "\n",
       "  weather_description            date_time  traffic_volume  \n",
       "0       broken clouds  2013-01-01 00:00:00            1439  \n",
       "1    scattered clouds  2013-01-01 01:00:00            1502  \n",
       "2          heavy snow  2013-01-01 02:00:00             933  \n",
       "3     overcast clouds  2013-01-01 03:00:00             576  \n",
       "4     overcast clouds  2013-01-01 04:00:00             372  "
      ]
     },
     "execution_count": 2,
     "metadata": {},
     "output_type": "execute_result"
    }
   ],
   "source": [
    "df = pd.read_csv('https://aisgaiap.blob.core.windows.net/aiap5-assessment-data/traffic_data.csv')\n",
    "df.head()"
   ]
  },
  {
   "cell_type": "code",
   "execution_count": 3,
   "metadata": {},
   "outputs": [
    {
     "name": "stdout",
     "output_type": "stream",
     "text": [
      "Number of Null Data in holiday: 0\n",
      "Number of Null Data in temp: 0\n",
      "Number of Null Data in rain_1h: 0\n",
      "Number of Null Data in snow_1h: 0\n",
      "Number of Null Data in clouds_all: 0\n",
      "Number of Null Data in weather_main: 0\n",
      "Number of Null Data in weather_description: 0\n",
      "Number of Null Data in date_time: 0\n",
      "Number of Null Data in traffic_volume: 0\n"
     ]
    }
   ],
   "source": [
    "# Check for missing data\n",
    "for i in range(len(df.columns)):\n",
    "    print('Number of Null Data in ',df.columns[i],': ',sum(df[df.columns[i]].isnull()),sep='')"
   ]
  },
  {
   "cell_type": "markdown",
   "metadata": {},
   "source": [
    "# Feature Engineering\n",
    "\n",
    "We will make use of feature engineering function from our ML pipeline class to create Day, DayOfWeek, Hour and Month values from the date_time column"
   ]
  },
  {
   "cell_type": "code",
   "execution_count": 7,
   "metadata": {},
   "outputs": [],
   "source": [
    "# We will make use of the ML pipeline created\n",
    "data = MLPipeline(df, 0.7)\n",
    "df = data.feature_engineering(df)"
   ]
  },
  {
   "cell_type": "markdown",
   "metadata": {},
   "source": [
    "# Hypothesis 1: The most important feature should be weather_main\n",
    "\n",
    "Lets see the feature importance using tree.\n",
    "\n",
    "The pipeline used above has already created the x dataset, converting weather_main and weather_description into one hot encoding."
   ]
  },
  {
   "cell_type": "code",
   "execution_count": 13,
   "metadata": {},
   "outputs": [],
   "source": [
    "from sklearn.ensemble import ExtraTreesClassifier\n",
    "from sklearn.feature_selection import SelectFromModel\n",
    "\n",
    "clf = ExtraTreesClassifier(n_estimators=7).fit(data.x, data.y)\n",
    "f_importance = clf.feature_importances_\n",
    "importance_idx = np.argsort(f_importance)[::-1]"
   ]
  },
  {
   "cell_type": "code",
   "execution_count": 14,
   "metadata": {},
   "outputs": [
    {
     "name": "stdout",
     "output_type": "stream",
     "text": [
      "Temperature: 0.319\n",
      "Hour: 0.314\n",
      "Day: 0.113\n",
      "Month: 0.074\n",
      "Day Of Week: 0.059\n",
      "Clouds_all: 0.042\n",
      "Rain_1h: 0.02\n",
      "Clouds: 0.004\n",
      "light rain: 0.004\n",
      "overcast clouds: 0.004\n"
     ]
    }
   ],
   "source": [
    "# print top 10 most important features\n",
    "\n",
    "for i in range(10):\n",
    "    f_idx = importance_idx[i]\n",
    "    print(data.weather_categories_idx[f_idx],': ',round(f_importance[f_idx], 3), sep='')"
   ]
  },
  {
   "cell_type": "markdown",
   "metadata": {},
   "source": [
    "Interesting find! Our initial assumption was that weather would be the biggest contributing factor for predicting traffic volume. Instead, we find that the top 2 features are Temperature and Hour of the day. \n",
    "\n",
    "In fact, the difference between the top 2 and the rest of the features are significantly different.\n",
    "\n",
    "One reason this could seem like that case is the imbalanced dataset. Since every dataset has Temperature and Hour, it could have provided more value for our prediction compared to the other onehot encoded features. Let's investigate further to find out more."
   ]
  },
  {
   "cell_type": "markdown",
   "metadata": {},
   "source": [
    "# Plotting the distribution for Temperature and Traffic Volume"
   ]
  },
  {
   "cell_type": "code",
   "execution_count": null,
   "metadata": {},
   "outputs": [],
   "source": [
    "sns.distplot(df.temp)\n",
    "temp_mean = np.mean(df.temp)\n",
    "temp_std = np.std(df.temp)\n",
    "\n",
    "print('Temperature Mean: ', temp_mean)\n",
    "print('Temperature Standard Deviation: ', temp_std)"
   ]
  },
  {
   "cell_type": "code",
   "execution_count": null,
   "metadata": {},
   "outputs": [],
   "source": [
    "# Plotting histogram for traffic volume\n",
    "\n",
    "sns.distplot(df.traffic_volume)\n",
    "traffic_mean = np.mean(df.traffic_volume)\n",
    "traffic_std = np.std(df.traffic_volume)\n",
    "\n",
    "print('Traffic Volume Mean: ', round(traffic_mean, 3))\n",
    "print('Traffic Colume Standard Deviation: ', round(traffic_std, 3))"
   ]
  },
  {
   "cell_type": "code",
   "execution_count": null,
   "metadata": {},
   "outputs": [],
   "source": [
    "# Plotting the mean of each month's temperature with each month's mean traffic volume\n",
    "# we scale each data to its maximum value to see the relative change\n",
    "\n",
    "month_temp = df.groupby('Month').mean()\n",
    "\n",
    "temp_max = month_temp['temp'].max()\n",
    "temp_min = month_temp['temp'].min()\n",
    "temp_range = temp_max - temp_min\n",
    "\n",
    "traffic_max = month_temp['traffic_volume'].max()\n",
    "traffic_min = month_temp['traffic_volume'].min()\n",
    "traffic_range = traffic_max - traffic_min\n",
    "\n",
    "month_temp['temp'] = (month_temp['temp']-temp_min)/temp_range\n",
    "month_temp['traffic_volume'] = (month_temp['traffic_volume']-traffic_min)/traffic_range"
   ]
  },
  {
   "cell_type": "code",
   "execution_count": null,
   "metadata": {},
   "outputs": [],
   "source": [
    "plt.figure(figsize=(12,7))\n",
    "plt.title('Scaled Temperature vs Traffic Volume')\n",
    "plt.plot(month_temp[['temp', 'traffic_volume']])\n",
    "plt.xlabel('Month')\n",
    "plt.show()\n",
    "plt.close()"
   ]
  },
  {
   "cell_type": "markdown",
   "metadata": {},
   "source": [
    "## Conclusion on this finding\n",
    "\n",
    "Just as we expected from the feature importance analysis, there's a strong correlation between temperature and traffic volume. The higher the temperature, the higher the traffic volume. \n",
    "\n",
    "One highly plausible explanation is that the higher the temperature, the more uncomfortable it is to travel without a car. Therefore there's more car usage, increasing traffic volume.\n",
    "\n",
    "\\\n",
    "\\\n",
    "\\\n",
    "\\\n",
    "\\\n",
    "\\\n",
    "time for the next hypothesis"
   ]
  },
  {
   "cell_type": "markdown",
   "metadata": {},
   "source": [
    "# Hypothesis 2: Average of each month's traffic volume should NOT deviate too much as the number of cars own should be roughly the same, if not increasing assuming stable economic growth"
   ]
  },
  {
   "cell_type": "markdown",
   "metadata": {},
   "source": [
    "To have a better idea, let's look at car sales from 2013 in the US.\n",
    "\n",
    "From the following website: http://carsalesbase.com/us-car-sales-data/, it says car sales from **2012** was **14,492,398** and for **2013** it's **15,582,136**.\n",
    "\n",
    "|Year|Sales|\n",
    "|----|----------|\n",
    "|2012|14,492,398|\n",
    "|2013|15,582,136|\n",
    "|2014|16,531,070|\n",
    "\n",
    "From a logical perspective, more car sales should lead to more traffic usage. Let's see what happens when we plot the mean traffic volume by month."
   ]
  },
  {
   "cell_type": "code",
   "execution_count": null,
   "metadata": {},
   "outputs": [],
   "source": [
    "month_vol = df[['Month', 'traffic_volume']].groupby('Month').mean()\n",
    "plt.figure(figsize=(10,5))\n",
    "plt.title('Mean traffic usage by Month')\n",
    "plt.plot(month_vol)\n",
    "plt.xlabel('Month')\n",
    "plt.show()\n",
    "plt.close()"
   ]
  },
  {
   "cell_type": "markdown",
   "metadata": {},
   "source": [
    "Seems like there's a consistent upward at the first half of the year and a sharp spike down towards the end. This is somewhat expected as we have shown that temperature has a strong correlation to traffic volume. As they were reaching the end of the year, it's moving towards winter and the traffic volume should decline.\n",
    "\n",
    "Let's plot the median of each month and see what it shows"
   ]
  },
  {
   "cell_type": "code",
   "execution_count": null,
   "metadata": {},
   "outputs": [],
   "source": [
    "month_vol = df[['Month', 'traffic_volume']].groupby('Month').median()\n",
    "plt.figure(figsize=(10,5))\n",
    "plt.title('Median traffic volume by Month')\n",
    "plt.plot(month_vol)\n",
    "plt.xlabel('Month')\n",
    "plt.show()\n",
    "plt.close()"
   ]
  },
  {
   "cell_type": "markdown",
   "metadata": {},
   "source": [
    "Now we have a plot that's consistent with that we know should make sense. The median traffic volume consistently increase throughout the year except for the end when the average temperature is much colder.\n",
    "\n",
    "## Conclusion on this finding\n",
    "\n",
    "Based on this, we can assume higher car sales volume leads to higher traffic usage. If we were to dig further, we should find a correlation between car sales and traffic volume. Nothing really surprising here. On top of that, it also shows that temperature plays a much more important role than car sales.\n",
    "\n",
    "\\\n",
    "\\\n",
    "\\\n",
    "\\\n",
    "\\\n",
    "Time for the next hypothesis"
   ]
  },
  {
   "cell_type": "markdown",
   "metadata": {},
   "source": [
    "# Hypothesis 3: Clear Skies should have the highest traffic volume as it is the best weather to go out and be outdoors\n",
    "\n",
    "Better weather leads to more inclination to go out and be outdoors. Bad weather leads to lesser inclination to be outdoors therefore lower traffic volume."
   ]
  },
  {
   "cell_type": "code",
   "execution_count": null,
   "metadata": {},
   "outputs": [],
   "source": [
    "# Sum of traffic volume by weather\n",
    "\n",
    "weather_sum = df[['weather_main','traffic_volume']].groupby(['weather_main']).sum()\n",
    "\n",
    "plt.figure(figsize=(10,8))\n",
    "plt.title('Total sum of traffic volume by weather')\n",
    "plt.xlabel('Weather')\n",
    "plt.ylabel('Sum of Traffic Volume')\n",
    "plt.bar(weather_sum.index, weather_sum.traffic_volume)\n",
    "plt.show()\n",
    "plt.close()\n",
    "\n",
    "print(weather_sum)"
   ]
  },
  {
   "cell_type": "markdown",
   "metadata": {},
   "source": [
    "Although clear weather is 2nd is the total sum of traffic usage, it's significantly behind cloud weather. It's too early to make any conclusion. Let's dive deeper.\n",
    "\n",
    "Let's look at the number of occurences for each weather"
   ]
  },
  {
   "cell_type": "code",
   "execution_count": null,
   "metadata": {},
   "outputs": [],
   "source": [
    "# Occurences of each weather in the dataset\n",
    "\n",
    "weather_count = df.weather_main.value_counts()\n",
    "plt.figure(figsize=(10,8))\n",
    "plt.title('Sum of traffic volume by weather')\n",
    "plt.bar(weather_count.index, weather_count)\n",
    "plt.show()\n",
    "plt.close()\n",
    "\n",
    "print(df['weather_main'].value_counts())"
   ]
  },
  {
   "cell_type": "markdown",
   "metadata": {},
   "source": [
    "It seems like clouds has the highest occurences in the entire dataset. This could have led to the total sum being the most. Let's use the mean to find out what it tells us."
   ]
  },
  {
   "cell_type": "code",
   "execution_count": null,
   "metadata": {},
   "outputs": [],
   "source": [
    "# Mean of traffic volume for each weather\n",
    "\n",
    "weather_sum = df[['weather_main','traffic_volume']].groupby(['weather_main']).mean()\n",
    "\n",
    "plt.figure(figsize=(10,8))\n",
    "plt.title('Mean of traffic volume by weather')\n",
    "plt.xlabel('Weather')\n",
    "plt.ylabel('Mean Traffic Volume')\n",
    "plt.bar(weather_sum.index, weather_sum.traffic_volume)\n",
    "plt.show()\n",
    "plt.close()\n",
    "\n",
    "# print volume sorted by highest mean to lowest\n",
    "\n",
    "print(round(weather_sum.sort_values('traffic_volume', ascending=False), 2))"
   ]
  },
  {
   "cell_type": "markdown",
   "metadata": {},
   "source": [
    "A surprising find! We thought the highest mean would be Clouds and Clear, but they are ranked 2nd and 4th behind Haze and Rain. This could be evidence that majority of traffic volume is contributed by **utility** usage instead of **recreational** usage. In other words, people are more likely to drive because the weather is bad instead of using it for recreational use.\n",
    "\n",
    "Since the top 5 rankings are Haze, Clouds, Rain, Clear and Drizzle, it could be infered that Haze causes the most discomfort to be outdoors, therefore more people drive to get to their destination. People see clouds as an indication of possible rain, therefore they drive just in case rain happens. Clear weather tells us people still drive for recreational use, but it's not as important as driving to avoid being in the middle of a bad weather.\n",
    "\n",
    "This can be further confirmed by our initial finding that hotter temperature causes more traffic usage."
   ]
  },
  {
   "cell_type": "markdown",
   "metadata": {},
   "source": [
    "### Conclusion for this finding\n",
    "\n",
    "Our initial belief that better weather leads to more recreational activities which should lead to higher traffic usage wasn't validated by what we found. The utility of NOT walking or being in the middle of a bad weather has a larger impact on whether people decide to drive."
   ]
  },
  {
   "cell_type": "markdown",
   "metadata": {},
   "source": [
    "# Hypothesis 4: Traffic volume does not have strong autocorrelation. Lagged values have minimal value in helping to predict traffic volume\n",
    "\n",
    "Let's investigate to determine whether traffic volume can be predicted with time series analysis.\n",
    "\n",
    "We shall start with performing an autocorrelation study."
   ]
  },
  {
   "cell_type": "code",
   "execution_count": null,
   "metadata": {},
   "outputs": [],
   "source": [
    "from statsmodels.graphics.tsaplots import plot_acf\n",
    "\n",
    "traffic_vol = np.array(df.traffic_volume)\n",
    "\n",
    "plot_acf(traffic_vol)\n",
    "plt.show()"
   ]
  },
  {
   "cell_type": "markdown",
   "metadata": {},
   "source": [
    "The correlation values of every lagged value are significantly outside of the confidence interval, suggesting that there's nearly no correlation between lagged values. Let's use partial autocorrelation to conclusive decide whether a time series model would be useful for predicting traffic volume."
   ]
  },
  {
   "cell_type": "code",
   "execution_count": null,
   "metadata": {},
   "outputs": [],
   "source": [
    "from statsmodels.graphics.tsaplots import plot_pacf\n",
    "plot_pacf(traffic_vol, lags=50)\n",
    "plt.show()"
   ]
  },
  {
   "cell_type": "markdown",
   "metadata": {},
   "source": [
    "Again, the correlation values are significantly outside the confidence interval.\n",
    "\n",
    "### Conclusion\n",
    "Time series models like ARIMA and ARMA models would not work well with this task."
   ]
  },
  {
   "cell_type": "markdown",
   "metadata": {},
   "source": [
    "# Hypothesis 5: Traffic volume spike at peak hour of each day, caused by starting of the work day and ending of the work day\n",
    "\n",
    "We want to see if the hour of the day have a huge impact in traffic volume.\n",
    "\n",
    "Let's group traffic volume by hours of the day."
   ]
  },
  {
   "cell_type": "code",
   "execution_count": null,
   "metadata": {},
   "outputs": [],
   "source": [
    "# Plotting the mean traffic volume by hour \n",
    "\n",
    "hour_mean = round(df[['Hour','traffic_volume']].groupby(['Hour']).mean(), 2)\n",
    "plt.figure(figsize=(10, 10))\n",
    "plt.bar(hour_mean.index, hour_mean.traffic_volume)\n",
    "plt.show()\n",
    "plt.close()"
   ]
  },
  {
   "cell_type": "code",
   "execution_count": null,
   "metadata": {},
   "outputs": [],
   "source": [
    "hour_mean.sort_values('traffic_volume', ascending=False)"
   ]
  },
  {
   "cell_type": "markdown",
   "metadata": {},
   "source": [
    "As expected, traffic spikes between 15 to 17 hour each day and is at the lowest around midnight, between 23-5 hour.\n",
    "\n",
    "Let's look at the median value and see if it tells us another story."
   ]
  },
  {
   "cell_type": "code",
   "execution_count": null,
   "metadata": {},
   "outputs": [],
   "source": [
    "# Plotting the median traffic volume by hour \n",
    "\n",
    "hour_median = df[['Hour','traffic_volume']].groupby(['Hour']).median()\n",
    "plt.figure(figsize=(10, 10))\n",
    "plt.bar(hour_median.index, hour_median.traffic_volume)\n",
    "plt.show()\n",
    "plt.close()"
   ]
  },
  {
   "cell_type": "code",
   "execution_count": null,
   "metadata": {},
   "outputs": [],
   "source": [
    "hour_median.sort_values('traffic_volume', ascending=False)"
   ]
  },
  {
   "cell_type": "markdown",
   "metadata": {},
   "source": [
    "This time it gives us a better picture. The top 6 hours consists of the intervals between 6-8 and 15-17. A reasonable assumption is that 6-8 is the period when people are driving to work and 15-17 is the period when people are driving home from work. The sharpest drop is between 0-4, during the midnight period which is to be expected.\n",
    "\n",
    "Let's plot a box and whiskers diagram to visualize the distribution of each hour."
   ]
  },
  {
   "cell_type": "code",
   "execution_count": null,
   "metadata": {},
   "outputs": [],
   "source": [
    "box_data = df[['DayOfWeek', 'Month', 'Hour', 'traffic_volume']].copy()\n",
    "\n",
    "plt.figure(figsize=(12,10))\n",
    "plt.title('Box and Whiskers of traffic volume by Hour')\n",
    "sns.boxplot(x='Hour', y='traffic_volume', data=box_data)"
   ]
  },
  {
   "cell_type": "markdown",
   "metadata": {},
   "source": [
    "Looks like there's a huge range of distribution for interval 5-7. One possible cause is the sharp dip in traffic volume in November and December. Let's remove them and see how the plot looks."
   ]
  },
  {
   "cell_type": "code",
   "execution_count": null,
   "metadata": {},
   "outputs": [],
   "source": [
    "box_data = box_data[box_data.Month != 12]\n",
    "box_data = box_data[box_data.Month != 11]\n",
    "\n",
    "plt.figure(figsize=(12,10))\n",
    "plt.title('Box and Whiskers of Ttraffic Volume by Hour, Removed November and December')\n",
    "sns.boxplot(x='Hour', y='traffic_volume', data=box_data)"
   ]
  },
  {
   "cell_type": "markdown",
   "metadata": {},
   "source": [
    "It still looks skewered. Lets remove Saturdays and Sundays and see how it looks."
   ]
  },
  {
   "cell_type": "code",
   "execution_count": null,
   "metadata": {},
   "outputs": [],
   "source": [
    "box_data = box_data[box_data.DayOfWeek != 5]\n",
    "box_data = box_data[box_data.DayOfWeek != 6]\n",
    "\n",
    "plt.figure(figsize=(12,10))\n",
    "plt.title('Box and Whiskers of traffic volume by Hour, Removed November, December and Weekends')\n",
    "sns.boxplot(x='Hour', y='traffic_volume', data=box_data)"
   ]
  },
  {
   "cell_type": "markdown",
   "metadata": {},
   "source": [
    "The plot looks much more consistent now! This aligns with our earlier assumption that majority of the traffic volume is caused by people driving to and fro work. Removing weekends shows us a much clearer picture of how the hours impact the traffic volume. "
   ]
  },
  {
   "cell_type": "markdown",
   "metadata": {},
   "source": [
    "# Final Conclusion\n",
    "\n",
    "We have learnt several important things about this dataset, namely:\n",
    "\n",
    "    1. Temperature is the most important factor in determining the traffic volume\n",
    "    2. Increased car sales leads to increase in traffic volume\n",
    "    3. Traffic volume is driven by bad weather more than good weather. People tend to drive more as a utility function more than recreational or convenience use.\n",
    "    4. There is no correlation between lagged traffic volume that can be used for predicting future traffic volume\n",
    "    5. Peak period when people are driving to and fro work contributes to the most traffic volume.\n",
    "    "
   ]
  }
 ],
 "metadata": {
  "kernelspec": {
   "display_name": "Python 3",
   "language": "python",
   "name": "python3"
  },
  "language_info": {
   "codemirror_mode": {
    "name": "ipython",
    "version": 3
   },
   "file_extension": ".py",
   "mimetype": "text/x-python",
   "name": "python",
   "nbconvert_exporter": "python",
   "pygments_lexer": "ipython3",
   "version": "3.6.8"
  }
 },
 "nbformat": 4,
 "nbformat_minor": 2
}
